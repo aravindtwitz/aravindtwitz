{
 "cells": [
  {
   "cell_type": "code",
   "execution_count": 1,
   "metadata": {},
   "outputs": [
    {
     "name": "stdout",
     "output_type": "stream",
     "text": [
      "mail sent\n"
     ]
    }
   ],
   "source": [
    "from datetime import datetime as dt                               \n",
    "\n",
    "import re\n",
    "from email.mime.multipart import MIMEMultipart\n",
    "from email.message import Message\n",
    "from email.mime.audio import MIMEAudio\n",
    "from email.mime.base import MIMEBase\n",
    "from email.mime.image import MIMEImage\n",
    "from email.mime.text import MIMEText\n",
    "import smtplib\n",
    "from email import encoders \n",
    "\n",
    "def errmail(msg_bdy,from_addr,passwd):\n",
    "    try:\n",
    "        message_body = msg_bdy\n",
    "        res = message_body.encode('ascii','ignore')\n",
    "        fromaddr = from_addr\n",
    "        toaddr = [\"schalkb@pegasusgroup.net\",\"martinm@pegasusgroup.net\"]\n",
    "        cc = [\"cindy@stortrack.com\"]\n",
    "        bcc=[\"vidhyagaran@aggregateintelligence.in\",\"uvaneshwaran@aggregateintelligence.in\",\"kesav@aggregateintelligence.in\",\"balam@aggregateintelligence.com\",\"aravindh@aggregateintelligence.in\"]\n",
    "        #toaddr=['uvaneshwaran@aggregateintelligence.in']\n",
    "        #cc=[]\n",
    "        #bcc=[]\n",
    "        msg = MIMEMultipart()    \n",
    "        msg['From'] = fromaddr\n",
    "        msg['To'] = \",\".join(toaddr)\n",
    "        msg['CC'] = \",\".join(cc)\n",
    "        msg['Subject'] = \"Pegasus PR - \"+dt.today().strftime('%d/%m/%Y')\n",
    "        body = res.decode(\"UTF-8\")\n",
    "        msg.attach(MIMEText(body, 'plain'))\n",
    "        \n",
    "        html=\"\"\"<br><br><p><a href=\"https://www.stortrack.com/\">StorTrack</a> is the leading provider of self-storage market data,\n",
    "        providing solutions for owners, operators, investors and developers.</p>\"\"\"\n",
    "        msg.attach(MIMEText(html, 'html'))\n",
    "        \n",
    "        html = \"\"\"<br>\n",
    "        <b>THIS IS AN AUTOMATED MESSAGE - PLEASE DO NOT REPLY DIRECTLY TO THIS EMAIL</b>\"\"\"\n",
    "        msg.attach(MIMEText(html, 'html'))\n",
    "        \n",
    "        filename = \"ASRS&CABX_\"+dt.today().strftime(\"%Y_%m_%d\")+'.xlsx'\n",
    "        \n",
    "        attachment = open(\"CompReports/ASRS & CABX_\"+dt.today().strftime(\"%Y_%m_%d\")+'.xlsx', \"rb\") \n",
    "        p = MIMEBase('application', 'octet-stream') \n",
    "        p.set_payload((attachment).read()) \n",
    "        encoders.encode_base64(p) \n",
    "        p.add_header('Content-Disposition', \"attachment; filename= %s\" % filename) \n",
    "        msg.attach(p) \n",
    "        \n",
    "        \n",
    "        server = smtplib.SMTP('smtp.gmail.com',587)\n",
    "        server.starttls()\n",
    "        server.login(fromaddr, passwd)\n",
    "        text = msg.as_string()\n",
    "        toaddrs = toaddr + cc +bcc\n",
    "        server.sendmail(fromaddr, toaddrs, text)\n",
    "        print(\"mail sent\") \n",
    "        server.quit()\n",
    "    except Exception as e:\n",
    "        print(e)\n",
    "\n",
    "passwd='d6VkrsxC'\n",
    "a=\"Good day,\\n \\nThe PR report for Pegasus is attached. The Recommended Price has been auto updated on SiteLink at the time the report was generated.\\n\\n\\n--\\nStorTrack Support\"\n",
    "errmail(a,\"support@stortrack.com\",passwd)\n",
    "\n"
   ]
  },
  {
   "cell_type": "code",
   "execution_count": null,
   "metadata": {},
   "outputs": [],
   "source": []
  }
 ],
 "metadata": {
  "kernelspec": {
   "display_name": "Python 3",
   "language": "python",
   "name": "python3"
  },
  "language_info": {
   "codemirror_mode": {
    "name": "ipython",
    "version": 3
   },
   "file_extension": ".py",
   "mimetype": "text/x-python",
   "name": "python",
   "nbconvert_exporter": "python",
   "pygments_lexer": "ipython3",
   "version": "3.8.10"
  }
 },
 "nbformat": 4,
 "nbformat_minor": 4
}
